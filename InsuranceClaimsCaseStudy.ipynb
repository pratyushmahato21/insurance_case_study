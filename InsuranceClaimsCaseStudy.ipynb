{
 "cells": [
  {
   "cell_type": "code",
   "execution_count": 1,
   "metadata": {},
   "outputs": [],
   "source": [
    "import numpy as np\n",
    "import pandas as pd\n",
    "import matplotlib.pyplot as plt\n",
    "import seaborn as sns\n",
    "import datetime as dt\n",
    "import scipy.stats as stats\n",
    "\n",
    "%matplotlib inline"
   ]
  },
  {
   "cell_type": "code",
   "execution_count": 2,
   "metadata": {},
   "outputs": [],
   "source": [
    "# Importing data \n",
    "data_claims = pd.read_csv('claims.csv', engine='pyarrow').convert_dtypes()\n",
    "data_demo = pd.read_csv('cust_demographics.csv', engine='pyarrow').convert_dtypes()\n"
   ]
  },
  {
   "cell_type": "code",
   "execution_count": 3,
   "metadata": {},
   "outputs": [
    {
     "data": {
      "text/html": [
       "<div>\n",
       "<style scoped>\n",
       "    .dataframe tbody tr th:only-of-type {\n",
       "        vertical-align: middle;\n",
       "    }\n",
       "\n",
       "    .dataframe tbody tr th {\n",
       "        vertical-align: top;\n",
       "    }\n",
       "\n",
       "    .dataframe thead th {\n",
       "        text-align: right;\n",
       "    }\n",
       "</style>\n",
       "<table border=\"1\" class=\"dataframe\">\n",
       "  <thead>\n",
       "    <tr style=\"text-align: right;\">\n",
       "      <th></th>\n",
       "      <th>claim_id</th>\n",
       "      <th>customer_id</th>\n",
       "      <th>incident_cause</th>\n",
       "      <th>claim_date</th>\n",
       "      <th>claim_area</th>\n",
       "      <th>police_report</th>\n",
       "      <th>claim_type</th>\n",
       "      <th>claim_amount</th>\n",
       "      <th>total_policy_claims</th>\n",
       "      <th>fraudulent</th>\n",
       "    </tr>\n",
       "  </thead>\n",
       "  <tbody>\n",
       "    <tr>\n",
       "      <th>0</th>\n",
       "      <td>54004764</td>\n",
       "      <td>21868593</td>\n",
       "      <td>Driver error</td>\n",
       "      <td>11/27/2017</td>\n",
       "      <td>Auto</td>\n",
       "      <td>No</td>\n",
       "      <td>Material only</td>\n",
       "      <td>$2980</td>\n",
       "      <td>1</td>\n",
       "      <td>No</td>\n",
       "    </tr>\n",
       "    <tr>\n",
       "      <th>1</th>\n",
       "      <td>33985796</td>\n",
       "      <td>75740424</td>\n",
       "      <td>Crime</td>\n",
       "      <td>10/03/2018</td>\n",
       "      <td>Home</td>\n",
       "      <td>Unknown</td>\n",
       "      <td>Material only</td>\n",
       "      <td>$2980</td>\n",
       "      <td>3</td>\n",
       "      <td>No</td>\n",
       "    </tr>\n",
       "    <tr>\n",
       "      <th>2</th>\n",
       "      <td>53522022</td>\n",
       "      <td>30308357</td>\n",
       "      <td>Other driver error</td>\n",
       "      <td>02/02/2018</td>\n",
       "      <td>Auto</td>\n",
       "      <td>No</td>\n",
       "      <td>Material only</td>\n",
       "      <td>$3369.5</td>\n",
       "      <td>1</td>\n",
       "      <td>Yes</td>\n",
       "    </tr>\n",
       "    <tr>\n",
       "      <th>3</th>\n",
       "      <td>13015401</td>\n",
       "      <td>47830476</td>\n",
       "      <td>Natural causes</td>\n",
       "      <td>06/17/2018</td>\n",
       "      <td>Auto</td>\n",
       "      <td>No</td>\n",
       "      <td>Material only</td>\n",
       "      <td>$1680</td>\n",
       "      <td>1</td>\n",
       "      <td>No</td>\n",
       "    </tr>\n",
       "    <tr>\n",
       "      <th>4</th>\n",
       "      <td>22890252</td>\n",
       "      <td>19269962</td>\n",
       "      <td>Crime</td>\n",
       "      <td>01/13/2018</td>\n",
       "      <td>Auto</td>\n",
       "      <td>No</td>\n",
       "      <td>Material only</td>\n",
       "      <td>$2680</td>\n",
       "      <td>1</td>\n",
       "      <td>No</td>\n",
       "    </tr>\n",
       "  </tbody>\n",
       "</table>\n",
       "</div>"
      ],
      "text/plain": [
       "   claim_id  customer_id      incident_cause  claim_date claim_area  \\\n",
       "0  54004764     21868593        Driver error  11/27/2017       Auto   \n",
       "1  33985796     75740424               Crime  10/03/2018       Home   \n",
       "2  53522022     30308357  Other driver error  02/02/2018       Auto   \n",
       "3  13015401     47830476      Natural causes  06/17/2018       Auto   \n",
       "4  22890252     19269962               Crime  01/13/2018       Auto   \n",
       "\n",
       "  police_report     claim_type claim_amount  total_policy_claims fraudulent  \n",
       "0            No  Material only        $2980                    1         No  \n",
       "1       Unknown  Material only        $2980                    3         No  \n",
       "2            No  Material only      $3369.5                    1        Yes  \n",
       "3            No  Material only        $1680                    1         No  \n",
       "4            No  Material only        $2680                    1         No  "
      ]
     },
     "execution_count": 3,
     "metadata": {},
     "output_type": "execute_result"
    }
   ],
   "source": [
    "data_claims.head()"
   ]
  },
  {
   "cell_type": "code",
   "execution_count": 4,
   "metadata": {},
   "outputs": [
    {
     "name": "stdout",
     "output_type": "stream",
     "text": [
      "<class 'pandas.core.frame.DataFrame'>\n",
      "RangeIndex: 1100 entries, 0 to 1099\n",
      "Data columns (total 10 columns):\n",
      " #   Column               Non-Null Count  Dtype \n",
      "---  ------               --------------  ----- \n",
      " 0   claim_id             1100 non-null   Int64 \n",
      " 1   customer_id          1100 non-null   Int64 \n",
      " 2   incident_cause       1100 non-null   string\n",
      " 3   claim_date           1100 non-null   string\n",
      " 4   claim_area           1100 non-null   string\n",
      " 5   police_report        1100 non-null   string\n",
      " 6   claim_type           1100 non-null   string\n",
      " 7   claim_amount         1035 non-null   string\n",
      " 8   total_policy_claims  1090 non-null   Int64 \n",
      " 9   fraudulent           1100 non-null   string\n",
      "dtypes: Int64(3), string(7)\n",
      "memory usage: 89.3 KB\n"
     ]
    }
   ],
   "source": [
    "data_claims.info()"
   ]
  },
  {
   "cell_type": "code",
   "execution_count": 5,
   "metadata": {},
   "outputs": [
    {
     "data": {
      "text/html": [
       "<div>\n",
       "<style scoped>\n",
       "    .dataframe tbody tr th:only-of-type {\n",
       "        vertical-align: middle;\n",
       "    }\n",
       "\n",
       "    .dataframe tbody tr th {\n",
       "        vertical-align: top;\n",
       "    }\n",
       "\n",
       "    .dataframe thead th {\n",
       "        text-align: right;\n",
       "    }\n",
       "</style>\n",
       "<table border=\"1\" class=\"dataframe\">\n",
       "  <thead>\n",
       "    <tr style=\"text-align: right;\">\n",
       "      <th></th>\n",
       "      <th>CUST_ID</th>\n",
       "      <th>gender</th>\n",
       "      <th>DateOfBirth</th>\n",
       "      <th>State</th>\n",
       "      <th>Contact</th>\n",
       "      <th>Segment</th>\n",
       "    </tr>\n",
       "  </thead>\n",
       "  <tbody>\n",
       "    <tr>\n",
       "      <th>0</th>\n",
       "      <td>21868593</td>\n",
       "      <td>Female</td>\n",
       "      <td>12-Jan-79</td>\n",
       "      <td>VT</td>\n",
       "      <td>789-916-8172</td>\n",
       "      <td>Platinum</td>\n",
       "    </tr>\n",
       "    <tr>\n",
       "      <th>1</th>\n",
       "      <td>75740424</td>\n",
       "      <td>Female</td>\n",
       "      <td>13-Jan-70</td>\n",
       "      <td>ME</td>\n",
       "      <td>265-543-1264</td>\n",
       "      <td>Silver</td>\n",
       "    </tr>\n",
       "    <tr>\n",
       "      <th>2</th>\n",
       "      <td>30308357</td>\n",
       "      <td>Female</td>\n",
       "      <td>11-Mar-84</td>\n",
       "      <td>TN</td>\n",
       "      <td>798-631-4758</td>\n",
       "      <td>Silver</td>\n",
       "    </tr>\n",
       "    <tr>\n",
       "      <th>3</th>\n",
       "      <td>47830476</td>\n",
       "      <td>Female</td>\n",
       "      <td>01-May-86</td>\n",
       "      <td>MA</td>\n",
       "      <td>413-187-7945</td>\n",
       "      <td>Silver</td>\n",
       "    </tr>\n",
       "    <tr>\n",
       "      <th>4</th>\n",
       "      <td>19269962</td>\n",
       "      <td>Male</td>\n",
       "      <td>13-May-77</td>\n",
       "      <td>NV</td>\n",
       "      <td>956-871-8691</td>\n",
       "      <td>Gold</td>\n",
       "    </tr>\n",
       "  </tbody>\n",
       "</table>\n",
       "</div>"
      ],
      "text/plain": [
       "    CUST_ID  gender DateOfBirth State       Contact   Segment\n",
       "0  21868593  Female   12-Jan-79    VT  789-916-8172  Platinum\n",
       "1  75740424  Female   13-Jan-70    ME  265-543-1264    Silver\n",
       "2  30308357  Female   11-Mar-84    TN  798-631-4758    Silver\n",
       "3  47830476  Female   01-May-86    MA  413-187-7945    Silver\n",
       "4  19269962    Male   13-May-77    NV  956-871-8691      Gold"
      ]
     },
     "execution_count": 5,
     "metadata": {},
     "output_type": "execute_result"
    }
   ],
   "source": [
    "data_demo.head()"
   ]
  },
  {
   "cell_type": "code",
   "execution_count": 6,
   "metadata": {},
   "outputs": [
    {
     "name": "stdout",
     "output_type": "stream",
     "text": [
      "<class 'pandas.core.frame.DataFrame'>\n",
      "RangeIndex: 1085 entries, 0 to 1084\n",
      "Data columns (total 6 columns):\n",
      " #   Column       Non-Null Count  Dtype \n",
      "---  ------       --------------  ----- \n",
      " 0   CUST_ID      1085 non-null   Int64 \n",
      " 1   gender       1085 non-null   string\n",
      " 2   DateOfBirth  1085 non-null   string\n",
      " 3   State        1085 non-null   string\n",
      " 4   Contact      1085 non-null   string\n",
      " 5   Segment      1085 non-null   string\n",
      "dtypes: Int64(1), string(5)\n",
      "memory usage: 52.0 KB\n"
     ]
    }
   ],
   "source": [
    "data_demo.info()"
   ]
  },
  {
   "cell_type": "code",
   "execution_count": 7,
   "metadata": {},
   "outputs": [],
   "source": [
    "final_data = pd.merge(left=data_claims, right=data_demo, left_on='customer_id', right_on='CUST_ID', how='left' )"
   ]
  },
  {
   "cell_type": "code",
   "execution_count": 8,
   "metadata": {},
   "outputs": [
    {
     "data": {
      "text/html": [
       "<div>\n",
       "<style scoped>\n",
       "    .dataframe tbody tr th:only-of-type {\n",
       "        vertical-align: middle;\n",
       "    }\n",
       "\n",
       "    .dataframe tbody tr th {\n",
       "        vertical-align: top;\n",
       "    }\n",
       "\n",
       "    .dataframe thead th {\n",
       "        text-align: right;\n",
       "    }\n",
       "</style>\n",
       "<table border=\"1\" class=\"dataframe\">\n",
       "  <thead>\n",
       "    <tr style=\"text-align: right;\">\n",
       "      <th></th>\n",
       "      <th>claim_id</th>\n",
       "      <th>customer_id</th>\n",
       "      <th>incident_cause</th>\n",
       "      <th>claim_date</th>\n",
       "      <th>claim_area</th>\n",
       "      <th>police_report</th>\n",
       "      <th>claim_type</th>\n",
       "      <th>claim_amount</th>\n",
       "      <th>total_policy_claims</th>\n",
       "      <th>fraudulent</th>\n",
       "      <th>CUST_ID</th>\n",
       "      <th>gender</th>\n",
       "      <th>DateOfBirth</th>\n",
       "      <th>State</th>\n",
       "      <th>Contact</th>\n",
       "      <th>Segment</th>\n",
       "    </tr>\n",
       "  </thead>\n",
       "  <tbody>\n",
       "    <tr>\n",
       "      <th>0</th>\n",
       "      <td>54004764</td>\n",
       "      <td>21868593</td>\n",
       "      <td>Driver error</td>\n",
       "      <td>11/27/2017</td>\n",
       "      <td>Auto</td>\n",
       "      <td>No</td>\n",
       "      <td>Material only</td>\n",
       "      <td>$2980</td>\n",
       "      <td>1</td>\n",
       "      <td>No</td>\n",
       "      <td>21868593</td>\n",
       "      <td>Female</td>\n",
       "      <td>12-Jan-79</td>\n",
       "      <td>VT</td>\n",
       "      <td>789-916-8172</td>\n",
       "      <td>Platinum</td>\n",
       "    </tr>\n",
       "    <tr>\n",
       "      <th>1</th>\n",
       "      <td>33985796</td>\n",
       "      <td>75740424</td>\n",
       "      <td>Crime</td>\n",
       "      <td>10/03/2018</td>\n",
       "      <td>Home</td>\n",
       "      <td>Unknown</td>\n",
       "      <td>Material only</td>\n",
       "      <td>$2980</td>\n",
       "      <td>3</td>\n",
       "      <td>No</td>\n",
       "      <td>75740424</td>\n",
       "      <td>Female</td>\n",
       "      <td>13-Jan-70</td>\n",
       "      <td>ME</td>\n",
       "      <td>265-543-1264</td>\n",
       "      <td>Silver</td>\n",
       "    </tr>\n",
       "    <tr>\n",
       "      <th>2</th>\n",
       "      <td>53522022</td>\n",
       "      <td>30308357</td>\n",
       "      <td>Other driver error</td>\n",
       "      <td>02/02/2018</td>\n",
       "      <td>Auto</td>\n",
       "      <td>No</td>\n",
       "      <td>Material only</td>\n",
       "      <td>$3369.5</td>\n",
       "      <td>1</td>\n",
       "      <td>Yes</td>\n",
       "      <td>30308357</td>\n",
       "      <td>Female</td>\n",
       "      <td>11-Mar-84</td>\n",
       "      <td>TN</td>\n",
       "      <td>798-631-4758</td>\n",
       "      <td>Silver</td>\n",
       "    </tr>\n",
       "    <tr>\n",
       "      <th>3</th>\n",
       "      <td>13015401</td>\n",
       "      <td>47830476</td>\n",
       "      <td>Natural causes</td>\n",
       "      <td>06/17/2018</td>\n",
       "      <td>Auto</td>\n",
       "      <td>No</td>\n",
       "      <td>Material only</td>\n",
       "      <td>$1680</td>\n",
       "      <td>1</td>\n",
       "      <td>No</td>\n",
       "      <td>47830476</td>\n",
       "      <td>Female</td>\n",
       "      <td>01-May-86</td>\n",
       "      <td>MA</td>\n",
       "      <td>413-187-7945</td>\n",
       "      <td>Silver</td>\n",
       "    </tr>\n",
       "    <tr>\n",
       "      <th>4</th>\n",
       "      <td>22890252</td>\n",
       "      <td>19269962</td>\n",
       "      <td>Crime</td>\n",
       "      <td>01/13/2018</td>\n",
       "      <td>Auto</td>\n",
       "      <td>No</td>\n",
       "      <td>Material only</td>\n",
       "      <td>$2680</td>\n",
       "      <td>1</td>\n",
       "      <td>No</td>\n",
       "      <td>19269962</td>\n",
       "      <td>Male</td>\n",
       "      <td>13-May-77</td>\n",
       "      <td>NV</td>\n",
       "      <td>956-871-8691</td>\n",
       "      <td>Gold</td>\n",
       "    </tr>\n",
       "  </tbody>\n",
       "</table>\n",
       "</div>"
      ],
      "text/plain": [
       "   claim_id  customer_id      incident_cause  claim_date claim_area  \\\n",
       "0  54004764     21868593        Driver error  11/27/2017       Auto   \n",
       "1  33985796     75740424               Crime  10/03/2018       Home   \n",
       "2  53522022     30308357  Other driver error  02/02/2018       Auto   \n",
       "3  13015401     47830476      Natural causes  06/17/2018       Auto   \n",
       "4  22890252     19269962               Crime  01/13/2018       Auto   \n",
       "\n",
       "  police_report     claim_type claim_amount  total_policy_claims fraudulent  \\\n",
       "0            No  Material only        $2980                    1         No   \n",
       "1       Unknown  Material only        $2980                    3         No   \n",
       "2            No  Material only      $3369.5                    1        Yes   \n",
       "3            No  Material only        $1680                    1         No   \n",
       "4            No  Material only        $2680                    1         No   \n",
       "\n",
       "    CUST_ID  gender DateOfBirth State       Contact   Segment  \n",
       "0  21868593  Female   12-Jan-79    VT  789-916-8172  Platinum  \n",
       "1  75740424  Female   13-Jan-70    ME  265-543-1264    Silver  \n",
       "2  30308357  Female   11-Mar-84    TN  798-631-4758    Silver  \n",
       "3  47830476  Female   01-May-86    MA  413-187-7945    Silver  \n",
       "4  19269962    Male   13-May-77    NV  956-871-8691      Gold  "
      ]
     },
     "execution_count": 8,
     "metadata": {},
     "output_type": "execute_result"
    }
   ],
   "source": [
    "final_data.head()"
   ]
  },
  {
   "cell_type": "code",
   "execution_count": 9,
   "metadata": {},
   "outputs": [],
   "source": [
    "# dropping the column CUST_ID because it the duplicate of customer_id\n",
    "final_data = final_data.drop('CUST_ID', axis=1)"
   ]
  },
  {
   "cell_type": "code",
   "execution_count": 10,
   "metadata": {},
   "outputs": [
    {
     "name": "stdout",
     "output_type": "stream",
     "text": [
      "<class 'pandas.core.frame.DataFrame'>\n",
      "RangeIndex: 1100 entries, 0 to 1099\n",
      "Data columns (total 15 columns):\n",
      " #   Column               Non-Null Count  Dtype \n",
      "---  ------               --------------  ----- \n",
      " 0   claim_id             1100 non-null   Int64 \n",
      " 1   customer_id          1100 non-null   Int64 \n",
      " 2   incident_cause       1100 non-null   string\n",
      " 3   claim_date           1100 non-null   string\n",
      " 4   claim_area           1100 non-null   string\n",
      " 5   police_report        1100 non-null   string\n",
      " 6   claim_type           1100 non-null   string\n",
      " 7   claim_amount         1035 non-null   string\n",
      " 8   total_policy_claims  1090 non-null   Int64 \n",
      " 9   fraudulent           1100 non-null   string\n",
      " 10  gender               1085 non-null   string\n",
      " 11  DateOfBirth          1085 non-null   string\n",
      " 12  State                1085 non-null   string\n",
      " 13  Contact              1085 non-null   string\n",
      " 14  Segment              1085 non-null   string\n",
      "dtypes: Int64(3), string(12)\n",
      "memory usage: 132.3 KB\n"
     ]
    }
   ],
   "source": [
    "# Q2: Perform a data audit for the datatypes and find out if there are any mismatch within the current datatypes of the columns and their business significance\n",
    "final_data.info()"
   ]
  },
  {
   "cell_type": "markdown",
   "metadata": {},
   "source": [
    "\n",
    "# Findings:\n",
    "1. The data type of columns claim_date & DateOfBirth is string, it should be DATE\n",
    "2. The data type of column claim_amount is string, it should be numeric\n"
   ]
  },
  {
   "cell_type": "code",
   "execution_count": 11,
   "metadata": {},
   "outputs": [],
   "source": [
    "final_data['claim_date'] = pd.to_datetime(final_data['claim_date'], format='%m/%d/%Y')"
   ]
  },
  {
   "cell_type": "code",
   "execution_count": 12,
   "metadata": {},
   "outputs": [],
   "source": [
    "final_data['DateOfBirth'] = pd.to_datetime(final_data['DateOfBirth'], format='%d-%b-%y')"
   ]
  },
  {
   "cell_type": "code",
   "execution_count": 13,
   "metadata": {},
   "outputs": [
    {
     "data": {
      "text/html": [
       "<div>\n",
       "<style scoped>\n",
       "    .dataframe tbody tr th:only-of-type {\n",
       "        vertical-align: middle;\n",
       "    }\n",
       "\n",
       "    .dataframe tbody tr th {\n",
       "        vertical-align: top;\n",
       "    }\n",
       "\n",
       "    .dataframe thead th {\n",
       "        text-align: right;\n",
       "    }\n",
       "</style>\n",
       "<table border=\"1\" class=\"dataframe\">\n",
       "  <thead>\n",
       "    <tr style=\"text-align: right;\">\n",
       "      <th></th>\n",
       "      <th>claim_id</th>\n",
       "      <th>customer_id</th>\n",
       "      <th>incident_cause</th>\n",
       "      <th>claim_date</th>\n",
       "      <th>claim_area</th>\n",
       "      <th>police_report</th>\n",
       "      <th>claim_type</th>\n",
       "      <th>claim_amount</th>\n",
       "      <th>total_policy_claims</th>\n",
       "      <th>fraudulent</th>\n",
       "      <th>gender</th>\n",
       "      <th>DateOfBirth</th>\n",
       "      <th>State</th>\n",
       "      <th>Contact</th>\n",
       "      <th>Segment</th>\n",
       "    </tr>\n",
       "  </thead>\n",
       "  <tbody>\n",
       "    <tr>\n",
       "      <th>9</th>\n",
       "      <td>63246959</td>\n",
       "      <td>33507197</td>\n",
       "      <td>Crime</td>\n",
       "      <td>2017-07-22</td>\n",
       "      <td>Auto</td>\n",
       "      <td>No</td>\n",
       "      <td>Material only</td>\n",
       "      <td>$2748.5</td>\n",
       "      <td>2</td>\n",
       "      <td>Yes</td>\n",
       "      <td>Female</td>\n",
       "      <td>2066-09-09</td>\n",
       "      <td>RI</td>\n",
       "      <td>165-519-4583</td>\n",
       "      <td>Gold</td>\n",
       "    </tr>\n",
       "    <tr>\n",
       "      <th>13</th>\n",
       "      <td>53780662</td>\n",
       "      <td>21240703</td>\n",
       "      <td>Other driver error</td>\n",
       "      <td>2018-09-19</td>\n",
       "      <td>Auto</td>\n",
       "      <td>Unknown</td>\n",
       "      <td>Material only</td>\n",
       "      <td>$1050</td>\n",
       "      <td>1</td>\n",
       "      <td>No</td>\n",
       "      <td>Male</td>\n",
       "      <td>2063-07-22</td>\n",
       "      <td>MD</td>\n",
       "      <td>473-561-2675</td>\n",
       "      <td>Silver</td>\n",
       "    </tr>\n",
       "    <tr>\n",
       "      <th>17</th>\n",
       "      <td>7809917</td>\n",
       "      <td>63916778</td>\n",
       "      <td>Other causes</td>\n",
       "      <td>2017-07-22</td>\n",
       "      <td>Auto</td>\n",
       "      <td>No</td>\n",
       "      <td>Injury only</td>\n",
       "      <td>$17800</td>\n",
       "      <td>1</td>\n",
       "      <td>No</td>\n",
       "      <td>Male</td>\n",
       "      <td>2066-09-07</td>\n",
       "      <td>IL</td>\n",
       "      <td>146-157-4572</td>\n",
       "      <td>Platinum</td>\n",
       "    </tr>\n",
       "    <tr>\n",
       "      <th>18</th>\n",
       "      <td>29205389</td>\n",
       "      <td>17004138</td>\n",
       "      <td>Natural causes</td>\n",
       "      <td>2017-06-25</td>\n",
       "      <td>Auto</td>\n",
       "      <td>No</td>\n",
       "      <td>Injury only</td>\n",
       "      <td>$31380</td>\n",
       "      <td>1</td>\n",
       "      <td>No</td>\n",
       "      <td>Female</td>\n",
       "      <td>2065-08-13</td>\n",
       "      <td>WA</td>\n",
       "      <td>436-354-4682</td>\n",
       "      <td>Silver</td>\n",
       "    </tr>\n",
       "    <tr>\n",
       "      <th>20</th>\n",
       "      <td>32630720</td>\n",
       "      <td>75584003</td>\n",
       "      <td>Crime</td>\n",
       "      <td>2017-02-03</td>\n",
       "      <td>Auto</td>\n",
       "      <td>No</td>\n",
       "      <td>Material only</td>\n",
       "      <td>&lt;NA&gt;</td>\n",
       "      <td>1</td>\n",
       "      <td>No</td>\n",
       "      <td>Female</td>\n",
       "      <td>2067-04-22</td>\n",
       "      <td>OK</td>\n",
       "      <td>723-418-3248</td>\n",
       "      <td>Silver</td>\n",
       "    </tr>\n",
       "    <tr>\n",
       "      <th>...</th>\n",
       "      <td>...</td>\n",
       "      <td>...</td>\n",
       "      <td>...</td>\n",
       "      <td>...</td>\n",
       "      <td>...</td>\n",
       "      <td>...</td>\n",
       "      <td>...</td>\n",
       "      <td>...</td>\n",
       "      <td>...</td>\n",
       "      <td>...</td>\n",
       "      <td>...</td>\n",
       "      <td>...</td>\n",
       "      <td>...</td>\n",
       "      <td>...</td>\n",
       "      <td>...</td>\n",
       "    </tr>\n",
       "    <tr>\n",
       "      <th>1058</th>\n",
       "      <td>38011383</td>\n",
       "      <td>56425562</td>\n",
       "      <td>Natural causes</td>\n",
       "      <td>2017-09-14</td>\n",
       "      <td>Auto</td>\n",
       "      <td>No</td>\n",
       "      <td>Material only</td>\n",
       "      <td>$1670</td>\n",
       "      <td>1</td>\n",
       "      <td>No</td>\n",
       "      <td>Female</td>\n",
       "      <td>2063-03-18</td>\n",
       "      <td>GA</td>\n",
       "      <td>823-712-3528</td>\n",
       "      <td>Platinum</td>\n",
       "    </tr>\n",
       "    <tr>\n",
       "      <th>1074</th>\n",
       "      <td>36599575</td>\n",
       "      <td>87596868</td>\n",
       "      <td>Driver error</td>\n",
       "      <td>2018-10-09</td>\n",
       "      <td>Auto</td>\n",
       "      <td>Unknown</td>\n",
       "      <td>Injury only</td>\n",
       "      <td>$33330</td>\n",
       "      <td>2</td>\n",
       "      <td>No</td>\n",
       "      <td>Male</td>\n",
       "      <td>2061-11-18</td>\n",
       "      <td>AZ</td>\n",
       "      <td>573-396-3182</td>\n",
       "      <td>Silver</td>\n",
       "    </tr>\n",
       "    <tr>\n",
       "      <th>1077</th>\n",
       "      <td>91386759</td>\n",
       "      <td>65208809</td>\n",
       "      <td>Natural causes</td>\n",
       "      <td>2018-10-30</td>\n",
       "      <td>Auto</td>\n",
       "      <td>No</td>\n",
       "      <td>Material only</td>\n",
       "      <td>$2290</td>\n",
       "      <td>1</td>\n",
       "      <td>No</td>\n",
       "      <td>Male</td>\n",
       "      <td>2064-04-22</td>\n",
       "      <td>VA</td>\n",
       "      <td>286-128-6132</td>\n",
       "      <td>Platinum</td>\n",
       "    </tr>\n",
       "    <tr>\n",
       "      <th>1079</th>\n",
       "      <td>72025178</td>\n",
       "      <td>46850495</td>\n",
       "      <td>Other causes</td>\n",
       "      <td>2017-11-27</td>\n",
       "      <td>Auto</td>\n",
       "      <td>Yes</td>\n",
       "      <td>Material only</td>\n",
       "      <td>$2173.5</td>\n",
       "      <td>1</td>\n",
       "      <td>Yes</td>\n",
       "      <td>Male</td>\n",
       "      <td>2062-08-21</td>\n",
       "      <td>NV</td>\n",
       "      <td>761-193-2346</td>\n",
       "      <td>Platinum</td>\n",
       "    </tr>\n",
       "    <tr>\n",
       "      <th>1083</th>\n",
       "      <td>12376894</td>\n",
       "      <td>11256802</td>\n",
       "      <td>Other driver error</td>\n",
       "      <td>2017-04-18</td>\n",
       "      <td>Auto</td>\n",
       "      <td>No</td>\n",
       "      <td>Material only</td>\n",
       "      <td>$2840</td>\n",
       "      <td>4</td>\n",
       "      <td>No</td>\n",
       "      <td>Female</td>\n",
       "      <td>2064-10-22</td>\n",
       "      <td>LA</td>\n",
       "      <td>469-345-5617</td>\n",
       "      <td>Silver</td>\n",
       "    </tr>\n",
       "  </tbody>\n",
       "</table>\n",
       "<p>245 rows × 15 columns</p>\n",
       "</div>"
      ],
      "text/plain": [
       "      claim_id  customer_id      incident_cause claim_date claim_area  \\\n",
       "9     63246959     33507197               Crime 2017-07-22       Auto   \n",
       "13    53780662     21240703  Other driver error 2018-09-19       Auto   \n",
       "17     7809917     63916778        Other causes 2017-07-22       Auto   \n",
       "18    29205389     17004138      Natural causes 2017-06-25       Auto   \n",
       "20    32630720     75584003               Crime 2017-02-03       Auto   \n",
       "...        ...          ...                 ...        ...        ...   \n",
       "1058  38011383     56425562      Natural causes 2017-09-14       Auto   \n",
       "1074  36599575     87596868        Driver error 2018-10-09       Auto   \n",
       "1077  91386759     65208809      Natural causes 2018-10-30       Auto   \n",
       "1079  72025178     46850495        Other causes 2017-11-27       Auto   \n",
       "1083  12376894     11256802  Other driver error 2017-04-18       Auto   \n",
       "\n",
       "     police_report     claim_type claim_amount  total_policy_claims  \\\n",
       "9               No  Material only      $2748.5                    2   \n",
       "13         Unknown  Material only        $1050                    1   \n",
       "17              No    Injury only       $17800                    1   \n",
       "18              No    Injury only       $31380                    1   \n",
       "20              No  Material only         <NA>                    1   \n",
       "...            ...            ...          ...                  ...   \n",
       "1058            No  Material only        $1670                    1   \n",
       "1074       Unknown    Injury only       $33330                    2   \n",
       "1077            No  Material only        $2290                    1   \n",
       "1079           Yes  Material only      $2173.5                    1   \n",
       "1083            No  Material only        $2840                    4   \n",
       "\n",
       "     fraudulent  gender DateOfBirth State       Contact   Segment  \n",
       "9           Yes  Female  2066-09-09    RI  165-519-4583      Gold  \n",
       "13           No    Male  2063-07-22    MD  473-561-2675    Silver  \n",
       "17           No    Male  2066-09-07    IL  146-157-4572  Platinum  \n",
       "18           No  Female  2065-08-13    WA  436-354-4682    Silver  \n",
       "20           No  Female  2067-04-22    OK  723-418-3248    Silver  \n",
       "...         ...     ...         ...   ...           ...       ...  \n",
       "1058         No  Female  2063-03-18    GA  823-712-3528  Platinum  \n",
       "1074         No    Male  2061-11-18    AZ  573-396-3182    Silver  \n",
       "1077         No    Male  2064-04-22    VA  286-128-6132  Platinum  \n",
       "1079        Yes    Male  2062-08-21    NV  761-193-2346  Platinum  \n",
       "1083         No  Female  2064-10-22    LA  469-345-5617    Silver  \n",
       "\n",
       "[245 rows x 15 columns]"
      ]
     },
     "execution_count": 13,
     "metadata": {},
     "output_type": "execute_result"
    }
   ],
   "source": [
    "final_data[final_data['DateOfBirth'].dt.year > 2023]"
   ]
  },
  {
   "cell_type": "code",
   "execution_count": 14,
   "metadata": {},
   "outputs": [],
   "source": [
    "# There are some DateOfBirth where date is after the claim date & the DateOfBirth is more than the current date, which is not possible. So, in case where DateOfBirth is more than current date, we are subtracting the year by 100\n",
    "\n",
    "final_data['DateOfBirth'] = np.where(final_data['DateOfBirth'].dt.year > dt.datetime.today().year, final_data['DateOfBirth'] - pd.offsets.DateOffset(years=100), final_data['DateOfBirth'])"
   ]
  },
  {
   "cell_type": "code",
   "execution_count": 15,
   "metadata": {},
   "outputs": [],
   "source": [
    "# Q3. Convert the column claim_amount to numeric. Use the appropriate modules/attributes to remove the $ sign\n",
    "\n",
    "# there are some values in claim_amount which are \"NA\". So, replacing theses values by \"$0\"\n",
    "final_data['claim_amount']=final_data.claim_amount.fillna('$0')"
   ]
  },
  {
   "cell_type": "code",
   "execution_count": 16,
   "metadata": {},
   "outputs": [],
   "source": [
    "# converting the claim_amount column to numeric data type. lambda function is use to remove the $ sign for each value\n",
    "final_data['claim_amount'] = pd.to_numeric(final_data['claim_amount'].apply(lambda x: str(x)[1:]))"
   ]
  },
  {
   "cell_type": "code",
   "execution_count": 17,
   "metadata": {},
   "outputs": [
    {
     "name": "stdout",
     "output_type": "stream",
     "text": [
      "<class 'pandas.core.frame.DataFrame'>\n",
      "RangeIndex: 1100 entries, 0 to 1099\n",
      "Data columns (total 15 columns):\n",
      " #   Column               Non-Null Count  Dtype         \n",
      "---  ------               --------------  -----         \n",
      " 0   claim_id             1100 non-null   Int64         \n",
      " 1   customer_id          1100 non-null   Int64         \n",
      " 2   incident_cause       1100 non-null   string        \n",
      " 3   claim_date           1100 non-null   datetime64[ns]\n",
      " 4   claim_area           1100 non-null   string        \n",
      " 5   police_report        1100 non-null   string        \n",
      " 6   claim_type           1100 non-null   string        \n",
      " 7   claim_amount         1100 non-null   float64       \n",
      " 8   total_policy_claims  1090 non-null   Int64         \n",
      " 9   fraudulent           1100 non-null   string        \n",
      " 10  gender               1085 non-null   string        \n",
      " 11  DateOfBirth          1085 non-null   datetime64[ns]\n",
      " 12  State                1085 non-null   string        \n",
      " 13  Contact              1085 non-null   string        \n",
      " 14  Segment              1085 non-null   string        \n",
      "dtypes: Int64(3), datetime64[ns](2), float64(1), string(9)\n",
      "memory usage: 132.3 KB\n"
     ]
    }
   ],
   "source": [
    "final_data.info()"
   ]
  },
  {
   "cell_type": "code",
   "execution_count": 18,
   "metadata": {},
   "outputs": [],
   "source": [
    "# Q4. Of all the injury claims, some of them have gone unreported with the police. Create an alert flag (1,0) for all such claims\n",
    "\n",
    "# we have created a new column called injury_unreported_flag, where if the claim type has 'injury' in it & if the police report is 'No', then it is flagged as 1\n",
    "final_data['injury_unreported_flag'] = np.where((((final_data['claim_type'] != 'Material only') & (final_data['police_report'] =='No'))), 1, 0)"
   ]
  },
  {
   "cell_type": "code",
   "execution_count": 19,
   "metadata": {},
   "outputs": [],
   "source": [
    "# Q5. One customer can claim for insurance more than once and in each claim, multiple categories of claims can be involved. However, customer ID should remain unique. Retain the most recent observation and delete any duplicated records in the data based on the customer ID column"
   ]
  },
  {
   "cell_type": "code",
   "execution_count": 20,
   "metadata": {},
   "outputs": [],
   "source": [
    "final_data = final_data.sort_values('claim_date', ascending=False).drop_duplicates('customer_id', keep='first')"
   ]
  },
  {
   "cell_type": "code",
   "execution_count": 21,
   "metadata": {},
   "outputs": [],
   "source": [
    "# Q6. Check for missing values and impute the missing values with an appropriate value. (mean for continuous and mode for categorical)\n",
    "\n",
    "def fill_categorical_values():\n",
    "    \"\"\"\n",
    "    This is a function that takes all categorical columns & fills the null values in these columns with mode of the column\n",
    "    \"\"\"\n",
    "    for i in final_data.select_dtypes('string').columns:\n",
    "        final_data[i].fillna(final_data[i].mode().to_string(index=False), inplace=True)\n",
    "\n",
    "def fill_numerical_values():\n",
    "    \"\"\"\n",
    "    This is a function that takes all numerical columns & fills the null values in these columns with mean of the column\n",
    "    \"\"\"\n",
    "    for i in final_data.select_dtypes('number').columns:\n",
    "        if final_data[i].dtypes == 'Int64':\n",
    "            final_data[i].fillna(np.round(final_data[i].mean()), inplace=True)\n",
    "        else:\n",
    "            final_data[i].fillna(final_data[i].mean(), inplace=True)\n",
    "\n",
    "fill_categorical_values()\n",
    "fill_numerical_values()"
   ]
  },
  {
   "cell_type": "code",
   "execution_count": 22,
   "metadata": {},
   "outputs": [],
   "source": [
    "# Q.7 Calculate the age of customers in years. Based on the age, categorize the customers according to the below criteria Children < 18, Youth 18-30, Adult 30-60, Senior > 60\n",
    "\n",
    "def func_age(born):\n",
    "    \"\"\"\n",
    "    function to calculate age of customer\n",
    "    \"\"\"\n",
    "    today = dt.date.today()\n",
    "    return today.year - born.year - ((today.month, today.day) <  (born.month, born.day))\n",
    "\n",
    "final_data['age'] = final_data['DateOfBirth'].apply(func_age)\n",
    "\n",
    "def func_cust_category(a):\n",
    "    if a < 18:\n",
    "        return 'Children'\n",
    "    elif a <= 30:\n",
    "        return 'Youth'\n",
    "    elif a <= 60:\n",
    "        return 'Adult'\n",
    "    elif a> 60:\n",
    "        return 'Senior'\n",
    "    else:\n",
    "        return \n",
    "        \n",
    "final_data['cust_category'] = final_data['age'].apply(func_cust_category)"
   ]
  },
  {
   "cell_type": "code",
   "execution_count": 23,
   "metadata": {},
   "outputs": [
    {
     "data": {
      "text/html": [
       "<div>\n",
       "<style scoped>\n",
       "    .dataframe tbody tr th:only-of-type {\n",
       "        vertical-align: middle;\n",
       "    }\n",
       "\n",
       "    .dataframe tbody tr th {\n",
       "        vertical-align: top;\n",
       "    }\n",
       "\n",
       "    .dataframe thead th {\n",
       "        text-align: right;\n",
       "    }\n",
       "</style>\n",
       "<table border=\"1\" class=\"dataframe\">\n",
       "  <thead>\n",
       "    <tr style=\"text-align: right;\">\n",
       "      <th>Segment</th>\n",
       "      <th>Gold</th>\n",
       "      <th>Platinum</th>\n",
       "      <th>Silver</th>\n",
       "    </tr>\n",
       "  </thead>\n",
       "  <tbody>\n",
       "    <tr>\n",
       "      <th>claim_amount</th>\n",
       "      <td>12050.624352</td>\n",
       "      <td>11852.192521</td>\n",
       "      <td>11256.15896</td>\n",
       "    </tr>\n",
       "  </tbody>\n",
       "</table>\n",
       "</div>"
      ],
      "text/plain": [
       "Segment               Gold      Platinum       Silver\n",
       "claim_amount  12050.624352  11852.192521  11256.15896"
      ]
     },
     "execution_count": 23,
     "metadata": {},
     "output_type": "execute_result"
    }
   ],
   "source": [
    "# Q.8 What is the average amount claimed by the customers from various segments? \n",
    "\n",
    "final_data.groupby(['Segment']).agg({'claim_amount':'mean'}).T"
   ]
  },
  {
   "cell_type": "code",
   "execution_count": 24,
   "metadata": {},
   "outputs": [
    {
     "data": {
      "text/html": [
       "<div>\n",
       "<style scoped>\n",
       "    .dataframe tbody tr th:only-of-type {\n",
       "        vertical-align: middle;\n",
       "    }\n",
       "\n",
       "    .dataframe tbody tr th {\n",
       "        vertical-align: top;\n",
       "    }\n",
       "\n",
       "    .dataframe thead th {\n",
       "        text-align: right;\n",
       "    }\n",
       "</style>\n",
       "<table border=\"1\" class=\"dataframe\">\n",
       "  <thead>\n",
       "    <tr style=\"text-align: right;\">\n",
       "      <th></th>\n",
       "      <th>claim_amount</th>\n",
       "    </tr>\n",
       "    <tr>\n",
       "      <th>incident_cause</th>\n",
       "      <th></th>\n",
       "    </tr>\n",
       "  </thead>\n",
       "  <tbody>\n",
       "    <tr>\n",
       "      <th>Crime</th>\n",
       "      <td>664582.0</td>\n",
       "    </tr>\n",
       "    <tr>\n",
       "      <th>Driver error</th>\n",
       "      <td>3194840.0</td>\n",
       "    </tr>\n",
       "    <tr>\n",
       "      <th>Natural causes</th>\n",
       "      <td>1203021.5</td>\n",
       "    </tr>\n",
       "    <tr>\n",
       "      <th>Other causes</th>\n",
       "      <td>3540989.0</td>\n",
       "    </tr>\n",
       "    <tr>\n",
       "      <th>Other driver error</th>\n",
       "      <td>3180621.5</td>\n",
       "    </tr>\n",
       "  </tbody>\n",
       "</table>\n",
       "</div>"
      ],
      "text/plain": [
       "                    claim_amount\n",
       "incident_cause                  \n",
       "Crime                   664582.0\n",
       "Driver error           3194840.0\n",
       "Natural causes         1203021.5\n",
       "Other causes           3540989.0\n",
       "Other driver error     3180621.5"
      ]
     },
     "execution_count": 24,
     "metadata": {},
     "output_type": "execute_result"
    }
   ],
   "source": [
    "# Q.9 What is the total claim amount based on incident cause for all the claims that have been done at least 20 days prior to 1st of October, 2018\n",
    "date = '2018-10-01'\n",
    "\n",
    "new_date = dt.datetime.strptime(date,'%Y-%m-%d') - dt.timedelta(days = 20)\n",
    "final_data[final_data['claim_date'] < new_date].groupby(['incident_cause']).agg({'claim_amount':'sum'})"
   ]
  },
  {
   "cell_type": "code",
   "execution_count": 25,
   "metadata": {},
   "outputs": [
    {
     "data": {
      "text/plain": [
       "10"
      ]
     },
     "execution_count": 25,
     "metadata": {},
     "output_type": "execute_result"
    }
   ],
   "source": [
    "# Q 10. How many adults from TX, DE and AK claimed insurance for driver related issues and causes?\n",
    "search_string = 'driver'\n",
    "len(final_data[(final_data['cust_category'] == 'Adult') & (final_data['State'].isin(['TX','DE','AK'])) & (final_data['incident_cause'].str.find(search_string) >= 0)])"
   ]
  },
  {
   "cell_type": "code",
   "execution_count": 26,
   "metadata": {},
   "outputs": [
    {
     "name": "stdout",
     "output_type": "stream",
     "text": [
      "the pie chart for Male between the aggregated value of claim amount based on segment is:\n"
     ]
    },
    {
     "data": {
      "image/png": "[encoded data removed]",
      "text/plain": [
       "<Figure size 640x480 with 1 Axes>"
      ]
     },
     "metadata": {},
     "output_type": "display_data"
    },
    {
     "name": "stdout",
     "output_type": "stream",
     "text": [
      "the pie chart for Female between the aggregated value of claim amount based on segment is:\n"
     ]
    },
    {
     "data": {
      "image/png": "[encoded data removed]",
      "text/plain": [
       "<Figure size 640x480 with 1 Axes>"
      ]
     },
     "metadata": {},
     "output_type": "display_data"
    }
   ],
   "source": [
    "# Q 11. Draw a pie chart between the aggregated value of claim amount based on gender and segment. Represent the claim amount as a percentage on the pie chart.\n",
    "for gender in final_data['gender'].unique():\n",
    "    print(f'the pie chart for {gender} between the aggregated value of claim amount based on segment is:')\n",
    "    label = final_data['Segment'].unique()\n",
    "    data = final_data[final_data['gender'] == gender].groupby(['Segment']).agg({'claim_amount':'sum'}).reset_index()['claim_amount']\n",
    "    plt.pie(data, labels=label, autopct='%1.1f%%')\n",
    "    plt.show()"
   ]
  },
  {
   "cell_type": "code",
   "execution_count": 27,
   "metadata": {},
   "outputs": [
    {
     "data": {
      "image/png": "[encoded data removed]",
      "text/plain": [
       "<Figure size 640x480 with 1 Axes>"
      ]
     },
     "metadata": {},
     "output_type": "display_data"
    }
   ],
   "source": [
    "# Q 12. Among males and females, which gender had claimed the most for any type of driver related issues? E.g. This metric can be compared using a bar chart\n",
    "search_string = 'driver'\n",
    "final_data[final_data['incident_cause'].str.find(search_string) >= 0].groupby(['gender'])['gender'].count().plot(kind='bar')\n",
    "plt.show()"
   ]
  },
  {
   "cell_type": "code",
   "execution_count": 28,
   "metadata": {},
   "outputs": [
    {
     "data": {
      "text/plain": [
       "<Axes: xlabel='cust_category'>"
      ]
     },
     "execution_count": 28,
     "metadata": {},
     "output_type": "execute_result"
    },
    {
     "data": {
      "image/png": "[encoded data removed]",
      "text/plain": [
       "<Figure size 640x480 with 1 Axes>"
      ]
     },
     "metadata": {},
     "output_type": "display_data"
    }
   ],
   "source": [
    "# Q 13. Which age group had the maximum fraudulent policy claims? Visualize it on a bar chart\n",
    "final_data.groupby(['cust_category'])['cust_category'].count().plot(kind='bar')"
   ]
  },
  {
   "cell_type": "code",
   "execution_count": 29,
   "metadata": {},
   "outputs": [
    {
     "data": {
      "text/plain": [
       "<Axes: xlabel='claim_month'>"
      ]
     },
     "execution_count": 29,
     "metadata": {},
     "output_type": "execute_result"
    },
    {
     "data": {
      "image/png": "[encoded data removed]",
      "text/plain": [
       "<Figure size 640x480 with 1 Axes>"
      ]
     },
     "metadata": {},
     "output_type": "display_data"
    }
   ],
   "source": [
    "# Q14. Visualize the monthly trend of the total amount that has been claimed by the customers. Ensure that on the “month” axis, the month is in a chronological order not alphabetical order\n",
    "\n",
    "final_data['claim_month'] = final_data['claim_date'].dt.month  # creating a new column for claim month\n",
    "\n",
    "final_data.groupby(['claim_month']).agg({'claim_amount':'sum'}).plot(kind='bar')"
   ]
  },
  {
   "cell_type": "code",
   "execution_count": 30,
   "metadata": {},
   "outputs": [
    {
     "data": {
      "image/png": "[encoded data removed]",
      "text/plain": [
       "<Figure size 640x480 with 1 Axes>"
      ]
     },
     "metadata": {},
     "output_type": "display_data"
    }
   ],
   "source": [
    "# Q15. What is the average claim amount for gender and age categories and suitably represent the above using a facetted bar chart, one facet that represents fraudulent claims and the other for non-fraudulent claims.\n",
    "\n",
    "final_data.groupby(['fraudulent','gender','cust_category']).agg({'claim_amount':'mean'}).unstack().plot(kind='bar')\n",
    "plt.show()"
   ]
  },
  {
   "cell_type": "code",
   "execution_count": 31,
   "metadata": {},
   "outputs": [
    {
     "data": {
      "text/plain": [
       "F_onewayResult(statistic=0.5583985459284883, pvalue=0.45506723037216323)"
      ]
     },
     "execution_count": 31,
     "metadata": {},
     "output_type": "execute_result"
    }
   ],
   "source": [
    "# Q16. Is there any similarity in the amount claimed by males and females?   \n",
    "claims_male = final_data[final_data['gender']=='Male']\n",
    "claims_female = final_data[final_data['gender']=='Female']\n",
    "\n",
    "# Ho: Claim amount by Male & Female are same\n",
    "# Ha: Claim amount by Male & Female are NOT same\n",
    "# CI=95% , p=0.05\n",
    "# we have 1 categorical & 1 continuous variable so, we are performing ANOVA test\n",
    "stats.f_oneway(claims_male.claim_amount, claims_female.claim_amount)\n",
    "# At CI of 95%, calculated p-value is greater than 0.05. SO, we FAIL to reject the NULL hypothesis.\n",
    "\n",
    "# Business Conclusion:\n",
    "# So, amount claimed by males and females are similar."
   ]
  },
  {
   "cell_type": "code",
   "execution_count": 32,
   "metadata": {},
   "outputs": [
    {
     "data": {
      "text/html": [
       "<div>\n",
       "<style scoped>\n",
       "    .dataframe tbody tr th:only-of-type {\n",
       "        vertical-align: middle;\n",
       "    }\n",
       "\n",
       "    .dataframe tbody tr th {\n",
       "        vertical-align: top;\n",
       "    }\n",
       "\n",
       "    .dataframe thead th {\n",
       "        text-align: right;\n",
       "    }\n",
       "</style>\n",
       "<table border=\"1\" class=\"dataframe\">\n",
       "  <thead>\n",
       "    <tr style=\"text-align: right;\">\n",
       "      <th>Segment</th>\n",
       "      <th>Gold</th>\n",
       "      <th>Platinum</th>\n",
       "      <th>Silver</th>\n",
       "    </tr>\n",
       "    <tr>\n",
       "      <th>cust_category</th>\n",
       "      <th></th>\n",
       "      <th></th>\n",
       "      <th></th>\n",
       "    </tr>\n",
       "  </thead>\n",
       "  <tbody>\n",
       "    <tr>\n",
       "      <th>Adult</th>\n",
       "      <td>274</td>\n",
       "      <td>267</td>\n",
       "      <td>255</td>\n",
       "    </tr>\n",
       "    <tr>\n",
       "      <th>Senior</th>\n",
       "      <td>26</td>\n",
       "      <td>23</td>\n",
       "      <td>20</td>\n",
       "    </tr>\n",
       "    <tr>\n",
       "      <th>Youth</th>\n",
       "      <td>71</td>\n",
       "      <td>71</td>\n",
       "      <td>71</td>\n",
       "    </tr>\n",
       "  </tbody>\n",
       "</table>\n",
       "</div>"
      ],
      "text/plain": [
       "Segment        Gold  Platinum  Silver\n",
       "cust_category                        \n",
       "Adult           274       267     255\n",
       "Senior           26        23      20\n",
       "Youth            71        71      71"
      ]
     },
     "execution_count": 32,
     "metadata": {},
     "output_type": "execute_result"
    }
   ],
   "source": [
    "# Q17. Is there any relationship between age category and segment?\n",
    "\n",
    "# Ho: There is no relationship between category & segment\n",
    "# Ha: There is a relationship between category & segment\n",
    "# CI=95%, p=0.05\n",
    "# category & segment are categorical variables, we use Chi-square test\n",
    "\n",
    "#get the observed frequency table \n",
    "obs_freq = pd.crosstab(index=final_data['cust_category'], columns=final_data['Segment'])\n",
    "obs_freq"
   ]
  },
  {
   "cell_type": "code",
   "execution_count": 33,
   "metadata": {},
   "outputs": [
    {
     "data": {
      "text/plain": [
       "Chi2ContingencyResult(statistic=0.5995405692287782, pvalue=0.9631147264043342, dof=4, expected_freq=array([[273.94805195, 266.56400742, 255.48794063],\n",
       "       [ 23.74675325,  23.10667904,  22.14656772],\n",
       "       [ 73.30519481,  71.32931354,  68.36549165]]))"
      ]
     },
     "execution_count": 33,
     "metadata": {},
     "output_type": "execute_result"
    }
   ],
   "source": [
    "# performing the chi-square test\n",
    "stats.chi2_contingency(obs_freq)\n",
    "\n",
    "# At CI of 95%, calculated p-value is greater than 0.05. SO, we FAIL to reject the NULL hypothesis.\n",
    "\n",
    "# Business Conclusion:\n",
    "# So, There is no relationship between category & segment"
   ]
  },
  {
   "cell_type": "code",
   "execution_count": 34,
   "metadata": {},
   "outputs": [
    {
     "data": {
      "text/plain": [
       "TtestResult(statistic=3.9573762237461283, pvalue=8.519057058169556e-05, df=579)"
      ]
     },
     "execution_count": 34,
     "metadata": {},
     "output_type": "execute_result"
    }
   ],
   "source": [
    "# Q18. The current year has shown a significant rise in claim amounts as compared to 2016-17 fiscal average which was $10,000\n",
    "\n",
    "# here we are comparing claim_amount for 2017-18 to fiscal average for 2016-17 of $10,000\n",
    "# Ho: Average claim amount is $10,000 \n",
    "# Ha: Average claim amount is NOT $10,000 \n",
    "# at CI=95%, p=0.05\n",
    "\n",
    "# comparing the claim_amount for 2017-18 to $10,000. So, we perform one sample t-test\n",
    "claim_amount_2017_18 = final_data[(final_data['claim_date']>'2017-04-01') & (final_data['claim_date']<'2018-04-01')]['claim_amount']\n",
    "stats.ttest_1samp(a=claim_amount_2017_18, popmean=10000)\n",
    "\n",
    "# At CI of 95%, calculated p-value is less than 0.05. SO, we reject the NULL hypothesis.\n",
    "\n",
    "# Business Conclusion:\n",
    "# So, The Average claim amount for 2017-18 is NOT $10,000 "
   ]
  },
  {
   "cell_type": "code",
   "execution_count": 35,
   "metadata": {},
   "outputs": [
    {
     "name": "stdout",
     "output_type": "stream",
     "text": [
      "The average claim amount for fiscal 2017-18: 12303.596551724138\n"
     ]
    }
   ],
   "source": [
    "# Based on the hypothesis testing done above, we can say that mean is NOT $10,000\n",
    "# In this case, we are comparing the average claim amount for fiscal 2016-17 & 2017-18\n",
    "print(f\"The average claim amount for fiscal 2017-18: {final_data[(final_data['claim_date']>'2017-04-01') & (final_data['claim_date']<'2018-04-01')]['claim_amount'].mean()}\")\n",
    "# average claim amount for 2017-18 is higher than 2016-17\n",
    "\n",
    "# Business conclusion:\n",
    "# There is an increase in the average claim amount from 2016-17 to 2017-18."
   ]
  },
  {
   "cell_type": "code",
   "execution_count": 36,
   "metadata": {},
   "outputs": [
    {
     "data": {
      "text/plain": [
       "F_onewayResult(statistic=0.4943590407769917, pvalue=0.6101003423172477)"
      ]
     },
     "execution_count": 36,
     "metadata": {},
     "output_type": "execute_result"
    }
   ],
   "source": [
    "# Q19. Is there any difference between age groups and insurance claims?\n",
    "\n",
    "# Ho: There is NO diffrence between age groups\n",
    "# Ha: There is a difference between age groups\n",
    "# CI=95%, p=0.05\n",
    "# cust_category is categrical & claim_amount is continuous. So,we are performing ANOVA test\n",
    "\n",
    "cust_adult = final_data[final_data['cust_category']=='Adult']['claim_amount']\n",
    "cust_youth = final_data[final_data['cust_category']=='Youth']['claim_amount']\n",
    "cust_senior = final_data[final_data['cust_category']=='Senior']['claim_amount']\n",
    "stats.f_oneway(cust_adult, cust_youth, cust_senior)\n",
    "# At CI of 95%, calculated p-value is greater than 0.05. SO, we FAIL to reject the NULL hypothesis.\n",
    "\n",
    "# Business Conclusion:\n",
    "# There is NO difference between age groups and insurance claims"
   ]
  },
  {
   "cell_type": "code",
   "execution_count": 37,
   "metadata": {},
   "outputs": [
    {
     "name": "stdout",
     "output_type": "stream",
     "text": [
      "PearsonRResult(statistic=-0.020913327652017803, pvalue=0.4897600450273102)\n",
      "SpearmanResult: SignificanceResult(statistic=0.011274637512238053, pvalue=0.7096463870849663)\n"
     ]
    }
   ],
   "source": [
    "# Q20. Is there any relationship between total number of policy claims and the claimed amount?\n",
    "\n",
    "# Ho: There is no relationship between total number of policy claims and the claimed amount\n",
    "# Ha: There is a relationship between total number of policy claims and the claimed amount\n",
    "# Both are continuous variable, we will use correlation to find the relationship between 2 continuous variables\n",
    "print(stats.pearsonr(x=final_data['total_policy_claims'], y=final_data['claim_amount']))\n",
    "print('SpearmanResult:',stats.spearmanr(final_data['total_policy_claims'], final_data['claim_amount']))\n",
    "# At CI of 95%, calculated p-value is greater than 0.05. SO, we FAIL to reject the NULL hypothesis.\n",
    "\n",
    "# Business Conclusion:\n",
    "# There is NO relationship between total number of policy claims and the claimed amount"
   ]
  },
  {
   "cell_type": "code",
   "execution_count": null,
   "metadata": {},
   "outputs": [],
   "source": []
  }
 ],
 "metadata": {
  "kernelspec": {
   "display_name": "py3.11",
   "language": "python",
   "name": "python3"
  },
  "language_info": {
   "codemirror_mode": {
    "name": "ipython",
    "version": 3
   },
   "file_extension": ".py",
   "mimetype": "text/x-python",
   "name": "python",
   "nbconvert_exporter": "python",
   "pygments_lexer": "ipython3",
   "version": "3.11.4"
  },
  "orig_nbformat": 4
 },
 "nbformat": 4,
 "nbformat_minor": 2
}
